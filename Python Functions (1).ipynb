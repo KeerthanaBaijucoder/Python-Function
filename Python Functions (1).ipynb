{
 "cells": [
  {
   "cell_type": "code",
   "execution_count": 3,
   "id": "4d486f47-036f-49b2-b795-42286fb78b90",
   "metadata": {},
   "outputs": [
    {
     "name": "stdout",
     "output_type": "stream",
     "text": [
      "Length of the list: 4\n",
      "Hello, Alice!\n",
      "Maximum number is: 89\n",
      "Local x: 10\n",
      "Global x: 50\n",
      "Area (with length=4, width=6): 24\n",
      "Area (with length=4): 20\n"
     ]
    }
   ],
   "source": [
    "# The len() function returns the number of items in an object, It works with sequences like strings, lists, tuples, etc.\n",
    "my_list = [10, 20, 30, 40]\n",
    "print(\"Length of the list:\", len(my_list)) # output=4\n",
    "\n",
    "\n",
    "def greet(name):     \n",
    "# greet(name) function: call functions in python.\n",
    "    print(f\"Hello, {name}!\")\n",
    "greet(\"Alice\")  # Output: Hello, Alice!\n",
    "\n",
    "\n",
    "def find_maximum(numbers):    \n",
    "# find_maximum(numbers) functions: implementing a common algorithm (finding the maximum number) without using Python's built-in max() function.\n",
    "# It uses a simple for loop to compare each element and determine the largest one.\n",
    "    if not numbers:\n",
    "        return None  # Return None if list is empty\n",
    "    max_val = numbers[0]\n",
    "    for num in numbers[1:]:\n",
    "        if num > max_val:\n",
    "            max_val = num\n",
    "    return max_val\n",
    "nums = [12, 45, 7, 89, 23]\n",
    "print(\"Maximum number is:\", find_maximum(nums))  # Output: 89\n",
    "\n",
    "\n",
    "#  Difference between local and global variables\n",
    "x = 50  # Global Variables:  Global variables can be accessed anywhere in the program\n",
    "def example_function():\n",
    "    # Local variable: are confined to the function where they are defined, (with the same name as global)\n",
    "    x = 10\n",
    "    print(\"Local x:\", x)  # This will print the local x\n",
    "example_function()\n",
    "print(\"Global x:\", x)  # This will print the global x\n",
    "\n",
    "\n",
    "def calculate_area(length, width=5):  # calculate_area(length, width=5) function:  the use of default arguments in Python.\n",
    "# If the width argument is not provided, it defaults to 5. This is useful when a parameter is not always required but still needs to be handled.\n",
    "    return length * width\n",
    "# Calling with both arguments\n",
    "print(\"Area (with length=4, width=6):\", calculate_area(4, 6))  # Output: 24\n",
    "# Calling with only length (default width used)\n",
    "print(\"Area (with length=4):\", calculate_area(4))  # Output: 20"
   ]
  },
  {
   "cell_type": "code",
   "execution_count": null,
   "id": "5769edef-2081-4a27-8709-51eea6abf641",
   "metadata": {},
   "outputs": [],
   "source": []
  }
 ],
 "metadata": {
  "kernelspec": {
   "display_name": "Python [conda env:base] *",
   "language": "python",
   "name": "conda-base-py"
  },
  "language_info": {
   "codemirror_mode": {
    "name": "ipython",
    "version": 3
   },
   "file_extension": ".py",
   "mimetype": "text/x-python",
   "name": "python",
   "nbconvert_exporter": "python",
   "pygments_lexer": "ipython3",
   "version": "3.12.7"
  }
 },
 "nbformat": 4,
 "nbformat_minor": 5
}
